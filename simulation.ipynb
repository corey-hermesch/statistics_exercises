{
 "cells": [
  {
   "cell_type": "code",
   "execution_count": null,
   "id": "3c9a419c",
   "metadata": {},
   "outputs": [],
   "source": [
    "# Statistics Exercises"
   ]
  },
  {
   "cell_type": "code",
   "execution_count": 1,
   "id": "8d64a0bf",
   "metadata": {},
   "outputs": [],
   "source": [
    "import numpy as np\n",
    "import pandas as pd\n",
    "\n",
    "np.random.seed(42)"
   ]
  },
  {
   "cell_type": "code",
   "execution_count": 25,
   "id": "6d878154",
   "metadata": {},
   "outputs": [
    {
     "data": {
      "text/plain": [
       "0.1662"
      ]
     },
     "execution_count": 25,
     "metadata": {},
     "output_type": "execute_result"
    }
   ],
   "source": [
    "# How likely is it that you roll doubles when rolling two dice?\n",
    "\n",
    "# Initialize variables. outcomes is all the possible outcomes of rolling a die, trials, simulations\n",
    "outcomes = [1,2,3,4,5,6]\n",
    "n_trials = 2\n",
    "n_simulations = 100_000\n",
    "\n",
    "# make an array of 100,000 simulations of two dice rolls\n",
    "two_dice_sim = np.random.choice(outcomes, (n_simulations, n_trials))\n",
    "\n",
    "# use list comprehension to make a boolean array testing for equality of the two dice rolls\n",
    "bool_tds = np.array(list((trial[0] == trial[1]) for trial in two_dice_sim))\n",
    "\n",
    "# Another way:  two_dice_sim[:,0] == two_dice_sim[:,1]   -- pretty cool!\n",
    "# Another way: make it a dataframe -> two_dice_sim[0] == two_dice_sim[1]\n",
    "\n",
    "# finally, take the mean which is the chance of rolling two dice and having them be equal,\n",
    "# i.e. 1-1, 2-2, 3-3, 4-4, 5-5, 6-6\n",
    "bool_tds.mean()"
   ]
  },
  {
   "cell_type": "code",
   "execution_count": 32,
   "id": "6f0ceb5b",
   "metadata": {},
   "outputs": [
    {
     "data": {
      "text/plain": [
       "0.8534"
      ]
     },
     "execution_count": 32,
     "metadata": {},
     "output_type": "execute_result"
    }
   ],
   "source": [
    "# If you flip 8 coins, what is the probability of getting exactly 3 heads? What is the probability of \n",
    "# getting more than 3 heads?\n",
    "\n",
    "# same methodology as above\n",
    "outcomes = ['H','T']\n",
    "n_trials = 8\n",
    "n_simulations = 100_000\n",
    "\n",
    "coin_flips_8 = np.random.choice(outcomes, (n_simulations, n_trials))\n",
    "bool_cf8 = coin_flips_8 == 'H'\n",
    "num_heads_array = bool_cf8.sum(axis=1)\n",
    "(num_heads_array == 3).mean()\n",
    "(num_heads_array >= 3).mean()"
   ]
  },
  {
   "cell_type": "code",
   "execution_count": 41,
   "id": "8b44a51d",
   "metadata": {},
   "outputs": [
    {
     "data": {
      "text/plain": [
       "0.06261"
      ]
     },
     "execution_count": 41,
     "metadata": {},
     "output_type": "execute_result"
    }
   ],
   "source": [
    "# There are approximitely 3 web development cohorts for every 1 data science cohort at Codeup. Assuming that \n",
    "# Codeup randomly selects an alumni to put on a billboard, what are the odds that the two billboards I drive \n",
    "# past both have data science students on them?\n",
    "\n",
    "outcomes = ['WD', 'WD', 'WD', 'DS']\n",
    "n_trials = 2\n",
    "n_simulations = 100_000\n",
    "\n",
    "billboard_combos = np.random.choice(outcomes, (n_simulations, n_trials))\n",
    "bool_bc = (billboard_combos == 'DS')\n",
    "(bool_bc.sum(axis=1) == 2).mean()"
   ]
  },
  {
   "cell_type": "code",
   "execution_count": 63,
   "id": "ee5d433b",
   "metadata": {},
   "outputs": [
    {
     "data": {
      "text/plain": [
       "0.3303"
      ]
     },
     "execution_count": 63,
     "metadata": {},
     "output_type": "execute_result"
    }
   ],
   "source": [
    "# Codeup students buy, on average, 3 poptart packages with a standard deviation of 1.5 a day from the snack \n",
    "# vending machine. If on monday the machine is restocked with 17 poptart packages, how likely is it that I \n",
    "# will be able to buy some poptarts on Friday afternoon? (Remember, if you have mean and standard deviation, \n",
    "# use the np.random.normal) You'll need to make a judgement call on how to handle some of your values\n",
    "\n",
    "# Initialize inputs to np.random.normal\n",
    "mu = 3\n",
    "sigma = 1.5\n",
    "# n_trials is 5 for the 5 days in the week M-F\n",
    "n_trials = 5\n",
    "n_simulations = 100_000\n",
    "\n",
    "# This line generates an array of 100_000 rows, each with 5 elements. Each element is an integer picked using\n",
    "# the np.random.normal function which uses 3 for a mean and 1.5 for a std deviation. That returns a decimal, so I\n",
    "# round it and make it an integer since codeup students can only ever buy whole numbers of poptart packages\n",
    "poptart_sims = np.array(list((np.random.normal(mu, sigma, n_trials).round(0).astype(int) for i in range(n_simulations))))\n",
    "\n",
    "# Finally, sum along the row axis and test if each row sum is >= 17 \n",
    "# and finally finally take the mean (which is the decimal probability of running out of pop tarts)\n",
    "(poptart_sims.sum(axis=1) >= 17).mean()\n"
   ]
  },
  {
   "cell_type": "code",
   "execution_count": null,
   "id": "0bcd9f97",
   "metadata": {},
   "outputs": [],
   "source": []
  },
  {
   "cell_type": "code",
   "execution_count": null,
   "id": "e9b7a621",
   "metadata": {},
   "outputs": [],
   "source": []
  }
 ],
 "metadata": {
  "kernelspec": {
   "display_name": "Python 3 (ipykernel)",
   "language": "python",
   "name": "python3"
  },
  "language_info": {
   "codemirror_mode": {
    "name": "ipython",
    "version": 3
   },
   "file_extension": ".py",
   "mimetype": "text/x-python",
   "name": "python",
   "nbconvert_exporter": "python",
   "pygments_lexer": "ipython3",
   "version": "3.9.13"
  }
 },
 "nbformat": 4,
 "nbformat_minor": 5
}
