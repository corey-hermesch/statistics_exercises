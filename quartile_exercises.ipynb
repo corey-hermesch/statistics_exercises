{
 "cells": [
  {
   "cell_type": "code",
   "execution_count": 1,
   "id": "9a0eb7c2-857c-46e9-95f6-4ab2c51a4cf5",
   "metadata": {},
   "outputs": [],
   "source": [
    "# This was an exercise to figure out why the Q1 (first quartile)\n",
    "# value of 6 numbers in a Tableau data set was not the second number. \n",
    "# Answer? Because it calculated the .25 quantile (percentile) which \n",
    "# has a linear interpolation between the second and third numbers\n",
    "# It does the same interpolation between the 4th and 5th numbers\n",
    "# when calculating the Q3 aka the .75 percentile\n",
    "import numpy as np\n",
    "import pandas as pd"
   ]
  },
  {
   "cell_type": "code",
   "execution_count": 2,
   "id": "4024cf6a-ddb2-43a3-a68d-6b1a226ef40e",
   "metadata": {},
   "outputs": [],
   "source": [
    "data = [5.9, 6.42, 6.65, 6.8, 18.04, 68.98]"
   ]
  },
  {
   "cell_type": "code",
   "execution_count": 3,
   "id": "502a37e8-b655-4370-85ae-8bf8ecd37cf4",
   "metadata": {},
   "outputs": [
    {
     "data": {
      "text/plain": [
       "[5.9, 6.42, 6.65, 6.8, 18.04, 68.98]"
      ]
     },
     "execution_count": 3,
     "metadata": {},
     "output_type": "execute_result"
    }
   ],
   "source": [
    "data"
   ]
  },
  {
   "cell_type": "code",
   "execution_count": 5,
   "id": "5165f731-12ad-49c6-adf9-b82b590eae1f",
   "metadata": {},
   "outputs": [
    {
     "data": {
      "text/plain": [
       "18.798333333333336"
      ]
     },
     "execution_count": 5,
     "metadata": {},
     "output_type": "execute_result"
    }
   ],
   "source": [
    "np.mean(data)"
   ]
  },
  {
   "cell_type": "code",
   "execution_count": 6,
   "id": "a3d68369-ff4c-4b7d-abe6-97f1e3762837",
   "metadata": {},
   "outputs": [
    {
     "data": {
      "text/plain": [
       "6.725"
      ]
     },
     "execution_count": 6,
     "metadata": {},
     "output_type": "execute_result"
    }
   ],
   "source": [
    "np.median(data)"
   ]
  },
  {
   "cell_type": "code",
   "execution_count": 7,
   "id": "29d23d61-ec78-4ee4-b83c-9aec4851b52a",
   "metadata": {},
   "outputs": [
    {
     "data": {
      "text/plain": [
       "6.725"
      ]
     },
     "execution_count": 7,
     "metadata": {},
     "output_type": "execute_result"
    }
   ],
   "source": [
    "np.quantile(data, 0.5)"
   ]
  },
  {
   "cell_type": "code",
   "execution_count": 10,
   "id": "bdc9293c-7567-410c-91b1-62cd1ff717b8",
   "metadata": {},
   "outputs": [
    {
     "data": {
      "text/plain": [
       "6.4775"
      ]
     },
     "execution_count": 10,
     "metadata": {},
     "output_type": "execute_result"
    }
   ],
   "source": [
    "np.quantile(data, 0.25)"
   ]
  },
  {
   "cell_type": "code",
   "execution_count": 11,
   "id": "b4e3a4de-87e9-4744-92ed-322afe2c0aea",
   "metadata": {},
   "outputs": [
    {
     "data": {
      "text/plain": [
       "15.23"
      ]
     },
     "execution_count": 11,
     "metadata": {},
     "output_type": "execute_result"
    }
   ],
   "source": [
    "np.quantile(data, 0.75)"
   ]
  },
  {
   "cell_type": "code",
   "execution_count": null,
   "id": "e2f09224-d4e1-4209-b14d-e2687758fb5f",
   "metadata": {},
   "outputs": [],
   "source": []
  }
 ],
 "metadata": {
  "kernelspec": {
   "display_name": "Python 3 (ipykernel)",
   "language": "python",
   "name": "python3"
  },
  "language_info": {
   "codemirror_mode": {
    "name": "ipython",
    "version": 3
   },
   "file_extension": ".py",
   "mimetype": "text/x-python",
   "name": "python",
   "nbconvert_exporter": "python",
   "pygments_lexer": "ipython3",
   "version": "3.9.13"
  }
 },
 "nbformat": 4,
 "nbformat_minor": 5
}
