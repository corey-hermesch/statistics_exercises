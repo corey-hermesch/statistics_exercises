{
 "cells": [
  {
   "cell_type": "code",
   "execution_count": null,
   "id": "c88c8968",
   "metadata": {},
   "outputs": [],
   "source": [
    "# For each of the following questions, formulate a null and alternative hypothesis (be as specific as you can be), \n",
    "# then give an example of what a true positive, true negative, type I and type II errors would look like. Note \n",
    "# that some of the questions are intentionally phrased in a vague way. It is your job to reword these as more \n",
    "# precise questions that could be tested.\n",
    "\n"
   ]
  },
  {
   "cell_type": "code",
   "execution_count": null,
   "id": "f3db97a7",
   "metadata": {},
   "outputs": [],
   "source": [
    "#     Has the network latency gone up since we switched internet service providers?\n",
    "\n",
    "# H0 = The network latency has not changed since switching ISPs\n",
    "# HA = The network latency has increased since switching ISPs (i.e. the internet is slower)\n",
    "\n",
    "# True positive: We reject H0 in favor of HA AND HA is true \n",
    "# -- We conclude internet has gotten slower AND it has actually gotten slower\n",
    "\n",
    "# True negative: We fail to reject the H0 AND H0 is true \n",
    "# -- We conclude the internet is the same speed AND it is actually the same speed\n",
    "\n",
    "# Type I error is a false positive: H0 is true, but we reject it in favor of HA \n",
    "# -- we conclude the internet is slower, but actually it is not slower\n",
    "\n",
    "# Type II error is a false negative: We fail to reject H0, but actually HA is true \n",
    "# -- We conclude internet speed has not changed, BUT actually it has changed"
   ]
  },
  {
   "cell_type": "code",
   "execution_count": null,
   "id": "e72a2b9a",
   "metadata": {},
   "outputs": [],
   "source": [
    "#     Is the website redesign any good?\n",
    "\n",
    "# H0 = website redesign has had no change in usefulness. We'll measure in terms of number of page visits \n",
    "# HA = website redesign has increasead in usefulness (num of page visits has increased) -- (Do we need to declare an amount for the increase?)\n",
    "\n",
    "# True Pos: We reject H0 in favor of HA AND HA is true (number of page visits has increased)\n",
    "\n",
    "# True Neg: We fail to reject H0 AND H0 is true (number of page visits hasn't changed)\n",
    "\n",
    "# Type I Error (False Positive): We reject H0 in favor of HA, but H0 is true\n",
    "#  -- We falsely conclude the number of page visits has increased\n",
    "\n",
    "# Type II Error (False Negative): We fail to reject H0 when HA is true\n",
    "#  -- We falsely conclude there is not an increase in page visits, when actually there is an increase"
   ]
  },
  {
   "cell_type": "code",
   "execution_count": null,
   "id": "6f1757a6",
   "metadata": {},
   "outputs": [],
   "source": [
    "#     Is our television ad driving more sales?\n",
    "\n",
    "# H0 = the tv ad has had no impact on sales\n",
    "# HA = the tv ad has increased sales\n",
    "\n",
    "\n",
    "# True Pos: We reject H0 in favor of HA AND HA is true\n",
    "# -- We conclude the ad has increased sales AND the ad has increased sales\n",
    "# -- ACTUALLY: can we determine causality?\n",
    "\n",
    "# True Neg: We fail to reject H0 AND H0 is true\n",
    "# -- We conclude sales have not increased AND they actually have not increased\n",
    "\n",
    "# Type I Error (False Positive): We reject H0 in favor of HA, but H0 is true\n",
    "# -- We conclude sales have increased, BUT actually they have not increased\n",
    "\n",
    "# Type II Error (False Negative): We fail to reject H0 when HA is true\n",
    "# -- We conclude sales have not increased BUT actually they have increased"
   ]
  }
 ],
 "metadata": {
  "kernelspec": {
   "display_name": "Python 3 (ipykernel)",
   "language": "python",
   "name": "python3"
  },
  "language_info": {
   "codemirror_mode": {
    "name": "ipython",
    "version": 3
   },
   "file_extension": ".py",
   "mimetype": "text/x-python",
   "name": "python",
   "nbconvert_exporter": "python",
   "pygments_lexer": "ipython3",
   "version": "3.9.13"
  }
 },
 "nbformat": 4,
 "nbformat_minor": 5
}
