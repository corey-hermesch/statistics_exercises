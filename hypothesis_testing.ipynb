{
 "cells": [
  {
   "cell_type": "code",
   "execution_count": null,
   "id": "c88c8968",
   "metadata": {},
   "outputs": [],
   "source": [
    "# For each of the following questions, formulate a null and alternative hypothesis (be as specific as you can be), \n",
    "# then give an example of what a true positive, true negative, type I and type II errors would look like. Note \n",
    "# that some of the questions are intentionally phrased in a vague way. It is your job to reword these as more \n",
    "# precise questions that could be tested.\n",
    "\n"
   ]
  },
  {
   "cell_type": "code",
   "execution_count": null,
   "id": "f3db97a7",
   "metadata": {},
   "outputs": [],
   "source": [
    "#     Has the network latency gone up since we switched internet service providers?\n",
    "\n",
    "# H0 = The network latency has not changed since switching ISPs\n",
    "# HA = The network latency has increased since switching ISPs (i.e. the internet is slower)\n",
    "\n",
    "# True positive: We reject H0 in favor of HA AND HA is true \n",
    "# -- We conclude internet has gotten slower AND it has actually gotten slower\n",
    "\n",
    "# True negative: We fail to reject the H0 AND H0 is true \n",
    "# -- We conclude the internet is the same speed AND it is actually the same speed\n",
    "\n",
    "# Type I error is a false positive: H0 is true, but we reject it in favor of HA \n",
    "# -- we conclude the internet is slower, but actually it is not slower\n",
    "\n",
    "# Type II error is a false negative: We fail to reject H0, but actually HA is true \n",
    "# -- We conclude internet speed has not changed, BUT actually it has changed"
   ]
  },
  {
   "cell_type": "code",
   "execution_count": null,
   "id": "e72a2b9a",
   "metadata": {},
   "outputs": [],
   "source": [
    "#     Is the website redesign any good?\n",
    "\n",
    "# H0 = website redesign has had no change in usefulness. We'll measure in terms of number of page visits \n",
    "# HA = website redesign has increasead in usefulness (num of page visits has increased) -- (Do we need to declare an amount for the increase?)\n",
    "\n",
    "# True Pos: We reject H0 in favor of HA AND HA is true (number of page visits has increased)\n",
    "\n",
    "# True Neg: We fail to reject H0 AND H0 is true (number of page visits hasn't changed)\n",
    "\n",
    "# Type I Error (False Positive): We reject H0 in favor of HA, but H0 is true\n",
    "#  -- We falsely conclude the number of page visits has increased\n",
    "\n",
    "# Type II Error (False Negative): We fail to reject H0 when HA is true\n",
    "#  -- We falsely conclude there is not an increase in page visits, when actually there is an increase"
   ]
  },
  {
   "cell_type": "code",
   "execution_count": null,
   "id": "6f1757a6",
   "metadata": {},
   "outputs": [],
   "source": [
    "#     Is our television ad driving more sales?\n",
    "\n",
    "# H0 = the tv ad has had no impact on sales\n",
    "# HA = the tv ad has increased sales\n",
    "\n",
    "\n",
    "# True Pos: We reject H0 in favor of HA AND HA is true\n",
    "# -- We conclude the ad has increased sales AND the ad has increased sales\n",
    "# -- ACTUALLY: can we determine causality?\n",
    "\n",
    "# True Neg: We fail to reject H0 AND H0 is true\n",
    "# -- We conclude sales have not increased AND they actually have not increased\n",
    "\n",
    "# Type I Error (False Positive): We reject H0 in favor of HA, but H0 is true\n",
    "# -- We conclude sales have increased, BUT actually they have not increased\n",
    "\n",
    "# Type II Error (False Negative): We fail to reject H0 when HA is true\n",
    "# -- We conclude sales have not increased BUT actually they have increased"
   ]
  },
  {
   "cell_type": "code",
   "execution_count": 1,
   "id": "02e1302a",
   "metadata": {},
   "outputs": [],
   "source": [
    "import numpy as np\n",
    "import pandas as pd\n",
    "from scipy import stats\n",
    "import matplotlib.pyplot as plt\n",
    "import seaborn as sns\n",
    "np.random.seed(42)"
   ]
  },
  {
   "cell_type": "code",
   "execution_count": 37,
   "id": "a9a153c9",
   "metadata": {},
   "outputs": [],
   "source": [
    "# Answer with the type of test you would use (assume normal distribution):\n",
    "\n",
    "#     Is there a difference in grades of students on the second floor compared to grades of all students?\n",
    "# Answer: One-Sample, two-tail t-test because we comparing a group that is within the larger group\n",
    "\n",
    "#     Are adults who drink milk taller than adults who dont drink milk?\n",
    "# Answer: Independent one-tail t-test (aka 2-sample, one-tail t-test) because we have two groups \n",
    "#         that do not overlap with each other\n",
    "\n",
    "#     Is the the price of gas higher in texas or in new mexico?\n",
    "# Answer: Independent, one-tail t-test (aka 2-sample, one-tail t-test) because we have two groups \n",
    "#         that do not overlap with each other\n",
    "\n",
    "#     Are there differences in stress levels between students who take data science vs students who take \n",
    "# web development vs students who take cloud academy?\n",
    "# Answer: Analysis of Variance aka ANOVA because we have more than 2 groups and we are trying to determine\n",
    "#         if there are differences between the groups. By definition, two-tail, since ANOVA can't test for >, <\n",
    "\n"
   ]
  },
  {
   "cell_type": "code",
   "execution_count": null,
   "id": "2dbd7670",
   "metadata": {},
   "outputs": [],
   "source": [
    "# Ace Realty wants to determine whether the average time it takes to sell homes is different for its two offices. \n",
    "# A sample of 40 sales from office #1 revealed a mean of 90 days and a standard deviation of 15 days. A sample of \n",
    "# 50 sales from office #2 revealed a mean of 100 days and a standard deviation of 20 days. Use a .05 level of \n",
    "# significance."
   ]
  },
  {
   "cell_type": "code",
   "execution_count": 39,
   "id": "7232f037",
   "metadata": {},
   "outputs": [],
   "source": [
    "# two-sample, two-tail test\n",
    "\n",
    "# Step 1: Plot distributions via histogram\n",
    "#  First make the distributions\n",
    "\n",
    "office1_days_dist = stats.norm(90, 15)\n",
    "office2_days_dist = stats.norm(100, 20)"
   ]
  },
  {
   "cell_type": "code",
   "execution_count": 45,
   "id": "243a74d7",
   "metadata": {},
   "outputs": [
    {
     "data": {
      "image/png": "[encoded data removed]",
      "text/plain": [
       "<Figure size 640x480 with 1 Axes>"
      ]
     },
     "metadata": {},
     "output_type": "display_data"
    },
    {
     "data": {
      "text/plain": [
       "13.533809744258884"
      ]
     },
     "execution_count": 45,
     "metadata": {},
     "output_type": "execute_result"
    }
   ],
   "source": [
    "office1_sim = office1_days_dist.rvs(40)\n",
    "plt.hist(office1_sim)\n",
    "plt.show()\n",
    "office1_sim.std()"
   ]
  },
  {
   "cell_type": "code",
   "execution_count": 46,
   "id": "d4afec04",
   "metadata": {},
   "outputs": [
    {
     "data": {
      "image/png": "[encoded data removed]",
      "text/plain": [
       "<Figure size 640x480 with 1 Axes>"
      ]
     },
     "metadata": {},
     "output_type": "display_data"
    }
   ],
   "source": [
    "office2_sim = office2_days_dist.rvs(50)\n",
    "plt.hist(office2_sim)\n",
    "plt.show()"
   ]
  },
  {
   "cell_type": "code",
   "execution_count": null,
   "id": "a579839f",
   "metadata": {},
   "outputs": [],
   "source": [
    "# Step 2: Establish Hypothesis:\n",
    "# H0: There is NO difference in the average number of days it takes to sell a home between office 1 and office 2\n",
    "# Ha: There IS a difference (so this is a 2 tailed test; later we will test for p<alpha)"
   ]
  },
  {
   "cell_type": "code",
   "execution_count": 47,
   "id": "31ab6061",
   "metadata": {},
   "outputs": [],
   "source": [
    "# Step 3: Set alpha = .05\n",
    "alpha = .05"
   ]
  },
  {
   "cell_type": "code",
   "execution_count": 48,
   "id": "a4f53c50",
   "metadata": {},
   "outputs": [
    {
     "data": {
      "text/plain": [
       "(5.471134861103068, 0.021598090765881893)"
      ]
     },
     "execution_count": 48,
     "metadata": {},
     "output_type": "execute_result"
    }
   ],
   "source": [
    "# Step 4: Verify assumptions:\n",
    "# Independence - Yes because the data points / distributions come from two different groups\n",
    "# Normal distributioin? - Yes because the question said so, and I created normal dist's via stats.norm\n",
    "# Equal variances? use stats.levene\n",
    "s, p = stats.levene(office1_sim, office2_sim)\n",
    "s, p\n",
    "# p is < alpha so variances are NOT equal. So we set equal_var = False in the next step\n",
    "# Also\n",
    "# print(office1_sim.var())\n",
    "# print(office2_sim.var())"
   ]
  },
  {
   "cell_type": "code",
   "execution_count": 49,
   "id": "93cbf955",
   "metadata": {},
   "outputs": [
    {
     "data": {
      "text/plain": [
       "(-2.2906102740428533, 0.024495039592841668)"
      ]
     },
     "execution_count": 49,
     "metadata": {},
     "output_type": "execute_result"
    }
   ],
   "source": [
    "# Step 5: Compute test statistic and probability (t-statistic & p-value) using stats.ttest_ind\n",
    "t, p = stats.ttest_ind(office1_sim, office2_sim, equal_var=False)\n",
    "t, p"
   ]
  },
  {
   "cell_type": "code",
   "execution_count": 50,
   "id": "0daed921",
   "metadata": {},
   "outputs": [
    {
     "name": "stdout",
     "output_type": "stream",
     "text": [
      "There IS a difference between the average number of days it takes to sell a house between office 1 and 2.\n"
     ]
    }
   ],
   "source": [
    "if p < alpha:\n",
    "    print(\"There IS a difference between the average number of days it takes to sell a house between office 1 and 2.\")\n",
    "else:\n",
    "    print(\"There is NO difference between the avg num of days it takes to sell a house btwn office 1 and 2.\")"
   ]
  },
  {
   "cell_type": "code",
   "execution_count": 21,
   "id": "7ba8e91d",
   "metadata": {},
   "outputs": [
    {
     "data": {
      "text/html": [
       "<div>\n",
       "<style scoped>\n",
       "    .dataframe tbody tr th:only-of-type {\n",
       "        vertical-align: middle;\n",
       "    }\n",
       "\n",
       "    .dataframe tbody tr th {\n",
       "        vertical-align: top;\n",
       "    }\n",
       "\n",
       "    .dataframe thead th {\n",
       "        text-align: right;\n",
       "    }\n",
       "</style>\n",
       "<table border=\"1\" class=\"dataframe\">\n",
       "  <thead>\n",
       "    <tr style=\"text-align: right;\">\n",
       "      <th></th>\n",
       "      <th>manufacturer</th>\n",
       "      <th>model</th>\n",
       "      <th>displ</th>\n",
       "      <th>year</th>\n",
       "      <th>cyl</th>\n",
       "      <th>trans</th>\n",
       "      <th>drv</th>\n",
       "      <th>cty</th>\n",
       "      <th>hwy</th>\n",
       "      <th>fl</th>\n",
       "      <th>class</th>\n",
       "    </tr>\n",
       "  </thead>\n",
       "  <tbody>\n",
       "    <tr>\n",
       "      <th>1</th>\n",
       "      <td>audi</td>\n",
       "      <td>a4</td>\n",
       "      <td>1.8</td>\n",
       "      <td>1999</td>\n",
       "      <td>4</td>\n",
       "      <td>auto(l5)</td>\n",
       "      <td>f</td>\n",
       "      <td>18</td>\n",
       "      <td>29</td>\n",
       "      <td>p</td>\n",
       "      <td>compact</td>\n",
       "    </tr>\n",
       "    <tr>\n",
       "      <th>2</th>\n",
       "      <td>audi</td>\n",
       "      <td>a4</td>\n",
       "      <td>1.8</td>\n",
       "      <td>1999</td>\n",
       "      <td>4</td>\n",
       "      <td>manual(m5)</td>\n",
       "      <td>f</td>\n",
       "      <td>21</td>\n",
       "      <td>29</td>\n",
       "      <td>p</td>\n",
       "      <td>compact</td>\n",
       "    </tr>\n",
       "    <tr>\n",
       "      <th>3</th>\n",
       "      <td>audi</td>\n",
       "      <td>a4</td>\n",
       "      <td>2.0</td>\n",
       "      <td>2008</td>\n",
       "      <td>4</td>\n",
       "      <td>manual(m6)</td>\n",
       "      <td>f</td>\n",
       "      <td>20</td>\n",
       "      <td>31</td>\n",
       "      <td>p</td>\n",
       "      <td>compact</td>\n",
       "    </tr>\n",
       "    <tr>\n",
       "      <th>4</th>\n",
       "      <td>audi</td>\n",
       "      <td>a4</td>\n",
       "      <td>2.0</td>\n",
       "      <td>2008</td>\n",
       "      <td>4</td>\n",
       "      <td>auto(av)</td>\n",
       "      <td>f</td>\n",
       "      <td>21</td>\n",
       "      <td>30</td>\n",
       "      <td>p</td>\n",
       "      <td>compact</td>\n",
       "    </tr>\n",
       "    <tr>\n",
       "      <th>5</th>\n",
       "      <td>audi</td>\n",
       "      <td>a4</td>\n",
       "      <td>2.8</td>\n",
       "      <td>1999</td>\n",
       "      <td>6</td>\n",
       "      <td>auto(l5)</td>\n",
       "      <td>f</td>\n",
       "      <td>16</td>\n",
       "      <td>26</td>\n",
       "      <td>p</td>\n",
       "      <td>compact</td>\n",
       "    </tr>\n",
       "  </tbody>\n",
       "</table>\n",
       "</div>"
      ],
      "text/plain": [
       "  manufacturer model  displ  year  cyl       trans drv  cty  hwy fl    class\n",
       "1         audi    a4    1.8  1999    4    auto(l5)   f   18   29  p  compact\n",
       "2         audi    a4    1.8  1999    4  manual(m5)   f   21   29  p  compact\n",
       "3         audi    a4    2.0  2008    4  manual(m6)   f   20   31  p  compact\n",
       "4         audi    a4    2.0  2008    4    auto(av)   f   21   30  p  compact\n",
       "5         audi    a4    2.8  1999    6    auto(l5)   f   16   26  p  compact"
      ]
     },
     "execution_count": 21,
     "metadata": {},
     "output_type": "execute_result"
    }
   ],
   "source": [
    "# Load the mpg dataset and use it to answer the following questions:\n",
    "\n",
    "from pydataset import data\n",
    "df = data('mpg')\n",
    "df.head()"
   ]
  },
  {
   "cell_type": "code",
   "execution_count": 52,
   "id": "de77469b",
   "metadata": {},
   "outputs": [
    {
     "data": {
      "text/plain": [
       "<AxesSubplot:>"
      ]
     },
     "execution_count": 52,
     "metadata": {},
     "output_type": "execute_result"
    },
    {
     "data": {
      "image/png": "[encoded data removed]",
      "text/plain": [
       "<Figure size 900x600 with 1 Axes>"
      ]
     },
     "metadata": {},
     "output_type": "display_data"
    }
   ],
   "source": [
    "#     Is there a difference in fuel-efficiency in cars from 2008 vs 1999?\n",
    "\n",
    "# Since we're comparing two different groups, I will use the stats.ttest_ind, aka 2-sample, 2-tail t-test\n",
    "# Step 1: Plot distributions via histogram\n",
    "# First capture data into two arrays (_1999 and _2008) where each element is the average of cty and hwy\n",
    "# for all cars with model years 1999 and 2008, respectively.\n",
    "\n",
    "fuel_eff_1999 = (df[df.year==1999].cty + df[df.year==1999].hwy) / 2\n",
    "fuel_eff_2008 = (df[df.year==2008].cty + df[df.year==2008].hwy) / 2\n",
    "\n",
    "plt.figure(figsize=(9,6))\n",
    "fuel_eff_1999.hist()\n",
    "fuel_eff_2008.hist()\n",
    "# sns.histplot(fuel_eff_1999)\n",
    "# sns.histplot(fuel_eff_2008)\n",
    "# plt.show()\n",
    "# fuel_eff_1999.mean(), fuel_eff_2008.mean()"
   ]
  },
  {
   "cell_type": "code",
   "execution_count": 32,
   "id": "a40c516c",
   "metadata": {},
   "outputs": [],
   "source": [
    "# step 2: Establish hypothesis:\n",
    "# H0: There is NO difference between fuel efficiency of cars from 1999 and cars from 2008\n",
    "# Ha: There IS a difference (two-tail test, so just testing for p<alpha)\n",
    "\n",
    "# step 3: Set alpha = .05\n",
    "alpha = .05"
   ]
  },
  {
   "cell_type": "code",
   "execution_count": 34,
   "id": "70322adb",
   "metadata": {},
   "outputs": [
    {
     "data": {
      "text/plain": [
       "(0.033228136671080453, 0.855517569468803)"
      ]
     },
     "execution_count": 34,
     "metadata": {},
     "output_type": "execute_result"
    }
   ],
   "source": [
    "# step 4: verify assumptions (ind, normal, equal variance)\n",
    "# indepence? - Yes. one group's data points do not depend on the other group(?)\n",
    "# normal? - Yes because we have > 30 data points in each group (117 in both grps to be precise)\n",
    "# variance? - Use stats.levene\n",
    "s, p = stats.levene(fuel_eff_1999, fuel_eff_2008)\n",
    "s, p\n",
    "# p is .8555... which is > alpha of .05, so the two distributions have \"equal\" variances"
   ]
  },
  {
   "cell_type": "code",
   "execution_count": 54,
   "id": "8607ff24",
   "metadata": {},
   "outputs": [
    {
     "data": {
      "text/plain": [
       "(0.21960177245940962, 0.8263744040323578)"
      ]
     },
     "execution_count": 54,
     "metadata": {},
     "output_type": "execute_result"
    }
   ],
   "source": [
    "# step 5: Compute t-statistic and p value\n",
    "t, p = stats.ttest_ind(fuel_eff_1999, fuel_eff_2008)\n",
    "t, p\n",
    "# p is .82637... which is > alpha, so we fail to reject H0"
   ]
  },
  {
   "cell_type": "code",
   "execution_count": 55,
   "id": "f0d2182b",
   "metadata": {},
   "outputs": [
    {
     "name": "stdout",
     "output_type": "stream",
     "text": [
      "There is NO significant difference between the fuel efficiency of cars made in 1999 and 2008.\n"
     ]
    }
   ],
   "source": [
    "# step 6, make a decision\n",
    "# p is .82637... which is > alpha, so we fail to reject H0\n",
    "\n",
    "if p < alpha:\n",
    "    print(\"There IS a difference between the fuel efficiency of cars made in 1999 and 2008.\")\n",
    "else:\n",
    "    print(\"There is NO significant difference between the fuel efficiency of cars made in 1999 and 2008.\")\n"
   ]
  },
  {
   "cell_type": "code",
   "execution_count": 50,
   "id": "57ac4398",
   "metadata": {
    "scrolled": true
   },
   "outputs": [
    {
     "data": {
      "image/png": "[encoded data removed]",
      "text/plain": [
       "<Figure size 640x480 with 1 Axes>"
      ]
     },
     "metadata": {},
     "output_type": "display_data"
    }
   ],
   "source": [
    "####     Are compact cars more fuel-efficient than the average car?\n",
    "\n",
    "# Since we're comparing one group that is within the larger group I'll use stats.ttest_1samp \n",
    "# aka One-sample t-test, AND it will be a 1 tail test\n",
    "# Step 1: Plot distributions via histograms:\n",
    "\n",
    "fuel_eff_compact = (df[df['class']=='compact'].cty + df[df['class']=='compact'].hwy) / 2\n",
    "fuel_eff_overall = (df.cty + df.hwy) / 2\n",
    "\n",
    "plt.hist(fuel_eff_overall)\n",
    "plt.show()"
   ]
  },
  {
   "cell_type": "code",
   "execution_count": 51,
   "id": "299a1f90",
   "metadata": {},
   "outputs": [
    {
     "data": {
      "image/png": "[encoded data removed]",
      "text/plain": [
       "<Figure size 640x480 with 1 Axes>"
      ]
     },
     "metadata": {},
     "output_type": "display_data"
    }
   ],
   "source": [
    "plt.hist(fuel_eff_compact)\n",
    "plt.show()"
   ]
  },
  {
   "cell_type": "code",
   "execution_count": 52,
   "id": "331c436e",
   "metadata": {},
   "outputs": [],
   "source": [
    "# Step 2: Establish Hypothesis\n",
    "# H0 - Fuel eff of compact cars is <= fuel eff of all cars\n",
    "# Ha - Fuel eff. of compact cars is > fuel eff of all cars\n",
    "\n",
    "# Step 3: Set significance level, alpha = .05\n",
    "alpha = .05"
   ]
  },
  {
   "cell_type": "code",
   "execution_count": 53,
   "id": "b9731045",
   "metadata": {},
   "outputs": [
    {
     "data": {
      "text/plain": [
       "(47,)"
      ]
     },
     "execution_count": 53,
     "metadata": {},
     "output_type": "execute_result"
    }
   ],
   "source": [
    "# Step 4: Verify assumptions: normal or >= 30 observations\n",
    "fuel_eff_compact.shape\n",
    "# We have 47 observations for compact and way more than 47 for all cars, so YES we pass the normal assumption"
   ]
  },
  {
   "cell_type": "code",
   "execution_count": 54,
   "id": "b26cbbc1",
   "metadata": {},
   "outputs": [
    {
     "data": {
      "text/plain": [
       "(7.896888573132533, 4.1985637943171486e-10)"
      ]
     },
     "execution_count": 54,
     "metadata": {},
     "output_type": "execute_result"
    }
   ],
   "source": [
    "# Step 5: Compute test statistics\n",
    "t, p = stats.ttest_1samp(fuel_eff_compact, fuel_eff_overall.mean())\n",
    "t, p"
   ]
  },
  {
   "cell_type": "code",
   "execution_count": 74,
   "id": "7486d3a9",
   "metadata": {},
   "outputs": [
    {
     "name": "stdout",
     "output_type": "stream",
     "text": [
      "The fuel efficiency of compact cars is greater than the fuel eff. of all cars.\n"
     ]
    }
   ],
   "source": [
    "# step 6, make a decision\n",
    "# p is 4.198...e-10 which is < alpha, so we reject H0\n",
    "\n",
    "if (p/2 < alpha) and (t > 0):\n",
    "    print(\"The fuel efficiency of compact cars is greater than the fuel eff. of all cars.\")\n",
    "else:\n",
    "    print(\"The fuel efficiency of compact cars is less than or equal to the fuel eff. of all cars.\")"
   ]
  },
  {
   "cell_type": "code",
   "execution_count": 57,
   "id": "cadbeefa",
   "metadata": {},
   "outputs": [
    {
     "data": {
      "image/png": "[encoded data removed]",
      "text/plain": [
       "<Figure size 640x480 with 1 Axes>"
      ]
     },
     "metadata": {},
     "output_type": "display_data"
    }
   ],
   "source": [
    "#     Do manual cars get better gas mileage than automatic cars?\n",
    "\n",
    "# I'll use a Independent t-test aka a 2-sample, 1-tail t-test since we have two distinct groups\n",
    "# Step 1, plot distributions via histograms\n",
    "\n",
    "fuel_eff_man = (df[df.trans.str.contains('man')].cty + df[df.trans.str.contains('man')].hwy) / 2\n",
    "fuel_eff_auto = (df[df.trans.str.contains('auto')].cty + df[df.trans.str.contains('auto')].hwy) / 2\n",
    "\n",
    "plt.hist(fuel_eff_man)\n",
    "plt.show()"
   ]
  },
  {
   "cell_type": "code",
   "execution_count": 58,
   "id": "2e1e7e5d",
   "metadata": {},
   "outputs": [
    {
     "data": {
      "image/png": "[encoded data removed]",
      "text/plain": [
       "<Figure size 640x480 with 1 Axes>"
      ]
     },
     "metadata": {},
     "output_type": "display_data"
    }
   ],
   "source": [
    "plt.hist(fuel_eff_auto)\n",
    "plt.show()"
   ]
  },
  {
   "cell_type": "code",
   "execution_count": 59,
   "id": "89dd72a7",
   "metadata": {},
   "outputs": [],
   "source": [
    "# Step 2: Establish hypothesis\n",
    "# H0: Fuel eff of manuals is <= automatics\n",
    "# Ha: Fuel eff of manuals is > automatics\n",
    "\n",
    "# Step 3: Set alpha = .05\n",
    "alpha = .05"
   ]
  },
  {
   "cell_type": "code",
   "execution_count": 60,
   "id": "ac9ba5bd",
   "metadata": {},
   "outputs": [
    {
     "data": {
      "text/plain": [
       "((77,), (157,))"
      ]
     },
     "execution_count": 60,
     "metadata": {},
     "output_type": "execute_result"
    }
   ],
   "source": [
    "# Step 4: Verify assumptions: Independence, normal dist, equal variances\n",
    "# Independence? Yes, each data point does not depend on any other data point\n",
    "# Normal: We have >= 30 data points (77 for man, 157 for auto)\n",
    "fuel_eff_man.shape, fuel_eff_auto.shape"
   ]
  },
  {
   "cell_type": "code",
   "execution_count": 61,
   "id": "ba729768",
   "metadata": {},
   "outputs": [
    {
     "data": {
      "text/plain": [
       "(0.20075824847529639, 0.6545276355131857)"
      ]
     },
     "execution_count": 61,
     "metadata": {},
     "output_type": "execute_result"
    }
   ],
   "source": [
    "# Equal Variance? - use stats.levene\n",
    "s, p = stats.levene(fuel_eff_man, fuel_eff_auto)\n",
    "s, p\n",
    "# p is .6545... which is > alpha of .05, so Equal Variance"
   ]
  },
  {
   "cell_type": "code",
   "execution_count": 62,
   "id": "efe0f4f8",
   "metadata": {},
   "outputs": [
    {
     "data": {
      "text/plain": [
       "(4.593437735750014, 7.154374401145685e-06)"
      ]
     },
     "execution_count": 62,
     "metadata": {},
     "output_type": "execute_result"
    }
   ],
   "source": [
    "# Step 5: Compute statistics via ttest_ind\n",
    "t, p = stats.ttest_ind(fuel_eff_man, fuel_eff_auto)\n",
    "t, p"
   ]
  },
  {
   "cell_type": "code",
   "execution_count": 73,
   "id": "3c2272f3",
   "metadata": {},
   "outputs": [
    {
     "name": "stdout",
     "output_type": "stream",
     "text": [
      "Manuals have greater fuel efficiency than automatics.\n"
     ]
    }
   ],
   "source": [
    "# Step 6: Make Decision\n",
    "# since p/2 is < alpha and t is > 0, we can reject H0 in favor of Ha\n",
    "\n",
    "if (p/2 < alpha) and (t > 0):\n",
    "    print(\"Manuals have greater fuel efficiency than automatics.\")\n",
    "else:\n",
    "    print(\"Manuals do NOT have greater fuel efficiency than automatics\")"
   ]
  },
  {
   "cell_type": "code",
   "execution_count": null,
   "id": "d8e9ed5a",
   "metadata": {},
   "outputs": [],
   "source": []
  }
 ],
 "metadata": {
  "kernelspec": {
   "display_name": "Python 3 (ipykernel)",
   "language": "python",
   "name": "python3"
  },
  "language_info": {
   "codemirror_mode": {
    "name": "ipython",
    "version": 3
   },
   "file_extension": ".py",
   "mimetype": "text/x-python",
   "name": "python",
   "nbconvert_exporter": "python",
   "pygments_lexer": "ipython3",
   "version": "3.9.13"
  }
 },
 "nbformat": 4,
 "nbformat_minor": 5
}
