{
 "cells": [
  {
   "cell_type": "code",
   "execution_count": 38,
   "id": "81fd0b01",
   "metadata": {},
   "outputs": [],
   "source": [
    "import numpy as np\n",
    "import pandas as pd\n",
    "from scipy import stats\n",
    "import matplotlib.pyplot as plt\n",
    "import seaborn as sns\n",
    "np.random.seed(42)"
   ]
  },
  {
   "cell_type": "code",
   "execution_count": null,
   "id": "f8f40aa9",
   "metadata": {},
   "outputs": [],
   "source": [
    "# For the following problems, use python to simulate the problem and calculate an experimental probability, \n",
    "# then compare that to the theoretical probability.\n"
   ]
  },
  {
   "cell_type": "code",
   "execution_count": null,
   "id": "a3eb0f76",
   "metadata": {},
   "outputs": [],
   "source": [
    "#     A bank found that the average number of cars waiting during the noon hour at a drive-up window follows a \n",
    "# Poisson distribution with a mean of 2 cars. Make a chart of this distribution and answer these questions \n",
    "# concerning the probability of cars waiting at the drive-up window.\n"
   ]
  },
  {
   "cell_type": "code",
   "execution_count": 47,
   "id": "9082c7cf",
   "metadata": {},
   "outputs": [],
   "source": [
    "# First initialize a poisson distribution\n",
    "lamb = 2\n",
    "cars_dist = stats.poisson(lamb)"
   ]
  },
  {
   "cell_type": "code",
   "execution_count": 50,
   "id": "d208ef91",
   "metadata": {},
   "outputs": [
    {
     "data": {
      "image/png": "[encoded data removed]",
      "text/plain": [
       "<Figure size 640x480 with 1 Axes>"
      ]
     },
     "metadata": {},
     "output_type": "display_data"
    }
   ],
   "source": [
    "# Chart the experimental probability\n",
    "car_values = cars_dist.rvs(100_000)\n",
    "sns.histplot(car_values)\n",
    "plt.show()"
   ]
  },
  {
   "cell_type": "code",
   "execution_count": 51,
   "id": "2ca1abf7",
   "metadata": {},
   "outputs": [
    {
     "data": {
      "text/plain": [
       "0.13527"
      ]
     },
     "execution_count": 51,
     "metadata": {},
     "output_type": "execute_result"
    }
   ],
   "source": [
    "# Experimental probability of 0 cars in the noon hour\n",
    "(car_values == 0).mean()"
   ]
  },
  {
   "cell_type": "code",
   "execution_count": 19,
   "id": "e2dd507c",
   "metadata": {},
   "outputs": [
    {
     "data": {
      "text/plain": [
       "0.1353352832366127"
      ]
     },
     "execution_count": 19,
     "metadata": {},
     "output_type": "execute_result"
    }
   ],
   "source": [
    "#         What is the probability that no cars drive up in the noon hour?\n",
    "cars_dist.pmf(0)"
   ]
  },
  {
   "cell_type": "code",
   "execution_count": 21,
   "id": "b5aded29",
   "metadata": {},
   "outputs": [
    {
     "data": {
      "text/plain": [
       "0.32332358381693654"
      ]
     },
     "execution_count": 21,
     "metadata": {},
     "output_type": "execute_result"
    }
   ],
   "source": [
    "#         What is the probability that 3 or more cars come through the drive through?\n",
    "cars_dist.sf(2)"
   ]
  },
  {
   "cell_type": "code",
   "execution_count": 22,
   "id": "f96ef2ae",
   "metadata": {},
   "outputs": [
    {
     "data": {
      "text/plain": [
       "0.8646647167633873"
      ]
     },
     "execution_count": 22,
     "metadata": {},
     "output_type": "execute_result"
    }
   ],
   "source": [
    "#         How likely is it that the drive through gets at least 1 car?\n",
    "cars_dist.sf(0)"
   ]
  },
  {
   "cell_type": "code",
   "execution_count": null,
   "id": "dff38f07",
   "metadata": {},
   "outputs": [],
   "source": [
    "#     Grades of State University graduates are normally distributed with a mean of 3.0 and a standard deviation \n",
    "# of .3. Calculate the following:\n"
   ]
  },
  {
   "cell_type": "code",
   "execution_count": 23,
   "id": "9ecbebde",
   "metadata": {},
   "outputs": [
    {
     "data": {
      "text/plain": [
       "<scipy.stats._distn_infrastructure.rv_continuous_frozen at 0x128bd47c0>"
      ]
     },
     "execution_count": 23,
     "metadata": {},
     "output_type": "execute_result"
    }
   ],
   "source": [
    "mu = 3.0\n",
    "sigma = .3\n",
    "grades_dist = stats.norm(mu, sigma)\n",
    "grades_dist"
   ]
  },
  {
   "cell_type": "code",
   "execution_count": 24,
   "id": "dc9ed69b",
   "metadata": {},
   "outputs": [
    {
     "data": {
      "text/plain": [
       "3.4934560880854417"
      ]
     },
     "execution_count": 24,
     "metadata": {},
     "output_type": "execute_result"
    }
   ],
   "source": [
    "#         What grade point average is required to be in the top 5% of the graduating class?\n",
    "grades_dist.isf(.05)"
   ]
  },
  {
   "cell_type": "code",
   "execution_count": 25,
   "id": "30f3135f",
   "metadata": {},
   "outputs": [
    {
     "data": {
      "text/plain": [
       "2.689069983151863"
      ]
     },
     "execution_count": 25,
     "metadata": {},
     "output_type": "execute_result"
    }
   ],
   "source": [
    "#         What GPA constitutes the bottom 15% of the class?\n",
    "grades_dist.isf(.85)"
   ]
  },
  {
   "cell_type": "code",
   "execution_count": 31,
   "id": "f4e51d8c",
   "metadata": {},
   "outputs": [
    {
     "name": "stdout",
     "output_type": "stream",
     "text": [
      "Third decile GPA range is 2.748 to 2.843.\n",
      "2.8 qualifies for the scholarship.\n"
     ]
    }
   ],
   "source": [
    "#         An eccentric alumnus left scholarship money for students in the third decile from the bottom of \n",
    "# their class. Determine the range of the third decile. Would a student with a 2.8 grade point average qualify \n",
    "# for this scholarship?\n",
    "third_decile_min = round(grades_dist.isf(.8),3)\n",
    "third_decile_max = round(grades_dist.isf(.7),3)\n",
    "print(f\"Third decile GPA range is {third_decile_min} to {third_decile_max}.\")\n",
    "if third_decile_min <= 2.8 < third_decile_max: \n",
    "    print(\"2.8 qualifies for the scholarship.\")\n",
    "else: print(\"2.8 does not qualify for the scholarship.\")"
   ]
  },
  {
   "cell_type": "code",
   "execution_count": 32,
   "id": "4612fb7a",
   "metadata": {},
   "outputs": [
    {
     "data": {
      "text/plain": [
       "0.9522096477271853"
      ]
     },
     "execution_count": 32,
     "metadata": {},
     "output_type": "execute_result"
    }
   ],
   "source": [
    "#         If I have a GPA of 3.5, what percentile am I in?\n",
    "### 95th percentile\n",
    "grades_dist.cdf(3.5)"
   ]
  },
  {
   "cell_type": "code",
   "execution_count": null,
   "id": "11e6dd55",
   "metadata": {},
   "outputs": [],
   "source": [
    "\n",
    "\n",
    "\n",
    "#     A marketing website has an average click-through rate of 2%. One day they observe 4326 visitors and 97 click-throughs. How likely is it that this many people or more click through?\n",
    "\n",
    "#     You are working on some statistics homework consisting of 100 questions where all of the answers are a probability rounded to the hundreths place. Looking to save time, you put down random probabilities as the answer to each question.\n",
    "#         What is the probability that at least one of your first 60 answers is correct?\n",
    "\n",
    "#     The codeup staff tends to get upset when the student break area is not cleaned up. Suppose that there's a 3% chance that any one student cleans the break area when they visit it, and, on any given day, about 90% of the 3 active cohorts of 22 students visit the break area. How likely is it that the break area gets cleaned up each day? How likely is it that it goes two days without getting cleaned up? All week?\n",
    "\n",
    "#     You want to get lunch at La Panaderia, but notice that the line is usually very long at lunchtime. After several weeks of careful observation, you notice that the average number of people in line when your lunch break starts is normally distributed with a mean of 15 and standard deviation of 3. If it takes 2 minutes for each person to order, and 10 minutes from ordering to getting your food, what is the likelihood that you have at least 15 minutes left to eat your food before you have to go back to class? Assume you have one hour for lunch, and ignore travel time to and from La Panaderia.\n",
    "\n",
    "#     Connect to the employees database and find the average salary of current employees, along with the standard deviation. For the following questions, calculate the answer based on modeling the employees salaries with a normal distribution defined by the calculated mean and standard deviation then compare this answer to the actual values present in the salaries dataset.\n",
    "#         What percent of employees earn less than 60,000?\n",
    "#         What percent of employees earn more than 95,000?\n",
    "#         What percent of employees earn between 65,000 and 80,000?\n",
    "#         What do the top 5% of employees make?\n",
    "\n",
    "#     Hint If you're looking at this exercise and wondering \"How do I get pandas to talk the database, again?\", remember that you'll need 3 things: your .gitignore, your env.py, and to use pd.read_sql. Copy over your .gitignore and env.py from your data science libraries exercises folder, and connect to the employees database like so:\n",
    "\n",
    "# import pandas as pd\n",
    "# import env\n",
    "\n",
    "# url = f'mysql+pymysql://{env.user}:{env.password}@{env.host}/employees'\n",
    "# pd.read_sql('SELECT * FROM departments', url)\n"
   ]
  }
 ],
 "metadata": {
  "kernelspec": {
   "display_name": "Python 3 (ipykernel)",
   "language": "python",
   "name": "python3"
  },
  "language_info": {
   "codemirror_mode": {
    "name": "ipython",
    "version": 3
   },
   "file_extension": ".py",
   "mimetype": "text/x-python",
   "name": "python",
   "nbconvert_exporter": "python",
   "pygments_lexer": "ipython3",
   "version": "3.9.13"
  }
 },
 "nbformat": 4,
 "nbformat_minor": 5
}
